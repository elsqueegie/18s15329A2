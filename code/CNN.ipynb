{
 "cells": [
  {
   "cell_type": "code",
   "execution_count": 1,
   "metadata": {},
   "outputs": [
    {
     "name": "stderr",
     "output_type": "stream",
     "text": [
      "/Users/jmacdonald/anaconda/lib/python3.5/importlib/_bootstrap.py:222: RuntimeWarning: compiletime version 3.6 of module 'tensorflow.python.framework.fast_tensor_util' does not match runtime version 3.5\n",
      "  return f(*args, **kwds)\n",
      "/Users/jmacdonald/anaconda/lib/python3.5/site-packages/h5py/__init__.py:36: FutureWarning: Conversion of the second argument of issubdtype from `float` to `np.floating` is deprecated. In future, it will be treated as `np.float64 == np.dtype(float).type`.\n",
      "  from ._conv import register_converters as _register_converters\n"
     ]
    },
    {
     "data": {
      "text/plain": [
       "'1.8.0'"
      ]
     },
     "execution_count": 1,
     "metadata": {},
     "output_type": "execute_result"
    }
   ],
   "source": [
    "# -*- coding: utf-8 -*-\n",
    "\"\"\"\n",
    "Created on Thu May 24 00:21:41 2018\n",
    "\n",
    "@author: aditya.sharma & james.macdonald\n",
    "\"\"\"\n",
    "\n",
    "# In[1]:\n",
    "\n",
    "\n",
    "import cv2\n",
    "import os\n",
    "import matplotlib.pyplot as plt\n",
    "import tensorflow as tf\n",
    "import numpy as np\n",
    "from sklearn.metrics import confusion_matrix\n",
    "import time\n",
    "import datetime as dt\n",
    "from datetime import timedelta\n",
    "import random\n",
    "import pandas as pd\n",
    "\n",
    "tf.__version__"
   ]
  },
  {
   "cell_type": "code",
   "execution_count": 2,
   "metadata": {},
   "outputs": [],
   "source": [
    "class DataSet(object):\n",
    "    # Set up a dataset object to simplify handling the data\n",
    "    def __init__(self, images, labels, img_names, cls):\n",
    "        self._num_examples = images.shape[0]\n",
    "        self._images = images\n",
    "        self._labels = labels\n",
    "        self._img_names = img_names\n",
    "        self._index_in_epoch = 0\n",
    "        self._epochs_done = 0\n",
    "        self._cls = cls\n",
    "\n",
    "    @property\n",
    "    def images(self):\n",
    "        return self._images\n",
    "\n",
    "    @property\n",
    "    def labels(self):\n",
    "        return self._labels\n",
    "\n",
    "    @property\n",
    "    def img_names(self):\n",
    "        return self._img_names\n",
    "\n",
    "    @property\n",
    "    def cls(self):\n",
    "        return self._cls\n",
    "\n",
    "    @property\n",
    "    def num_examples(self):\n",
    "        return self._num_examples\n",
    "\n",
    "    def next_batch(self, batch_size):\n",
    "        \"\"\"Return the next `batch_size` examples from this data set.\"\"\"\n",
    "        start = self._index_in_epoch\n",
    "        self._index_in_epoch += batch_size\n",
    "        if self._index_in_epoch > self._num_examples:\n",
    "            self._epochs_done += 1\n",
    "            start = 0\n",
    "            self._index_in_epoch = batch_size\n",
    "            assert batch_size <= self._num_examples\n",
    "        end = self._index_in_epoch\n",
    "        return self._images[start:end], self._labels[start:end], self._img_names[start:end], self._cls[start:end]"
   ]
  },
  {
   "cell_type": "code",
   "execution_count": 3,
   "metadata": {},
   "outputs": [],
   "source": [
    "def load_data(input_path, dataset_type, image_size):\n",
    "    # Load the data into a datset object for easy management\n",
    "    images = []\n",
    "    labels = []\n",
    "    img_names = []\n",
    "    cls = []\n",
    "    data_path = os.path.join(input_path, str(dataset_type+'-set'))\n",
    "    label_path = os.path.join(input_path, str(dataset_type+'.txt'))\n",
    "    with open(label_path, 'r') as label_file:\n",
    "        lines = label_file.readlines()\n",
    "        random.shuffle(lines) # Shuffle at load to ensure randomization\n",
    "        for line in lines:\n",
    "            filename, index = line.split(' ')\n",
    "            label = np.zeros(62)\n",
    "            label[int(index)] = 1.0\n",
    "            labels.append(label)\n",
    "            img_names.append(filename)\n",
    "            image_file_path = os.path.join(data_path, filename)\n",
    "            image = cv2.imread(image_file_path, cv2.IMREAD_GRAYSCALE)\n",
    "            image = cv2.resize(image, (image_size, image_size),0,0, cv2.INTER_LINEAR)\n",
    "            image = np.reshape(image, image_size*image_size)\n",
    "            images.append(image)\n",
    "            cls.append(int(index))\n",
    "    images = np.array(images)\n",
    "    labels = np.array(labels)\n",
    "    img_names = np.array(img_names)\n",
    "    cls = np.array(cls)\n",
    "    return DataSet(images, labels, img_names, cls)"
   ]
  },
  {
   "cell_type": "code",
   "execution_count": 4,
   "metadata": {},
   "outputs": [
    {
     "name": "stdout",
     "output_type": "stream",
     "text": [
      "Size of:\n",
      "- Training-set:\t\t37882\n",
      "- Validation-set:\t6262\n"
     ]
    },
    {
     "data": {
      "image/png": "[encoded data removed]",
      "text/plain": [
       "<Figure size 432x288 with 9 Axes>"
      ]
     },
     "metadata": {},
     "output_type": "display_data"
    }
   ],
   "source": [
    "input_path = '../Input/'\n",
    "num_channels = 1\n",
    "num_classes = 62\n",
    "img_size = 32\n",
    "img_size_flat = img_size * img_size\n",
    "img_shape = (img_size, img_size)\n",
    "\n",
    "train = load_data('../Input/','train',32)\n",
    "validation = load_data('../Input/','vali',32)\n",
    "\n",
    "print(\"Size of:\")\n",
    "print(\"- Training-set:\\t\\t{}\".format(len(train.labels)))\n",
    "print(\"- Validation-set:\\t{}\".format(len(validation.labels)))\n",
    "\n",
    "\n",
    "def plot_images(images, cls_true, img_shape=None, cls_pred=None):\n",
    "    # Plot the images for visibility\n",
    "    assert len(images) == len(cls_true) == 9\n",
    "    fig, axes = plt.subplots(3, 3)\n",
    "    fig.subplots_adjust(hspace=0.3, wspace=0.3)\n",
    "\n",
    "    for i, ax in enumerate(axes.flat):\n",
    "        ax.imshow(images[i].reshape((img_size,img_size)), cmap='binary')\n",
    "        if cls_pred is None:\n",
    "            xlabel = \"True: {0}\".format(cls_true[i])\n",
    "        else:\n",
    "            xlabel = \"True: {0}, Pred: {1}\".format(cls_true[i], cls_pred[i])\n",
    "        ax.set_xlabel(xlabel)\n",
    "        ax.set_xticks([])\n",
    "        ax.set_yticks([])\n",
    "    plt.show()\n",
    "\n",
    "images = validation.images[0:9]\n",
    "cls_true = validation.cls[0:9]\n",
    "plot_images(images=images, cls_true=cls_true)\n",
    "\n"
   ]
  },
  {
   "cell_type": "code",
   "execution_count": 5,
   "metadata": {},
   "outputs": [],
   "source": [
    "# Functions to set up the graph, giving flexibility via the use of dictionaries defined later\n",
    "\n",
    "activation_dictionary = {'relu':tf.nn.relu,'lrelu':tf.nn.leaky_relu,'tanh':tf.nn.tanh,'sigmoid':tf.nn.sigmoid}\n",
    "\n",
    "def new_weights(shape):\n",
    "    new_weight = tf.truncated_normal(shape, stddev=0.05)\n",
    "    return tf.Variable(new_weight)\n",
    "\n",
    "def new_biases(length):\n",
    "    new_bias = tf.constant(0.05, shape=[length])\n",
    "    return tf.Variable(new_bias)\n",
    "\n",
    "def new_conv_layer(previous_layer,p):\n",
    "    if p['maxpool'].lower()=='first':\n",
    "        previous_layer = tf.nn.max_pool(value=previous_layer, ksize=[1,2,2,1], strides=[1,2,2,1], padding='SAME')\n",
    "    weights = new_weights(shape=[p['fSize'], p['fSize'], p['channels'], p['fN']])\n",
    "    biases = new_biases(length=p['fN'])\n",
    "    \n",
    "    layer = tf.nn.conv2d(input=previous_layer, filter=weights, strides=[1, p['sSize'], p['sSize'], 1],\n",
    "                         padding='SAME')\n",
    "    layer += biases\n",
    "    if p['maxpool'].lower()=='last':\n",
    "        layer = tf.nn.max_pool(value=layer, ksize=[1, 2, 2, 1], strides=[1, 2, 2, 1], padding='SAME')\n",
    "    layer = tf.layers.batch_normalization(layer, training=training, axis=-1)\n",
    "    activation = activation_dictionary[p['activation']]\n",
    "    layer = activation(layer)\n",
    "    return layer, weights\n",
    "\n",
    "def flatten_layer(layer):\n",
    "    layer_shape = layer.get_shape()\n",
    "    num_features = layer_shape[1:4].num_elements()\n",
    "    layer_flat = tf.reshape(layer, [-1, num_features])\n",
    "    return layer_flat, num_features\n",
    "\n",
    "def new_fc_layer(input, params): \n",
    "    weights = new_weights(shape=[params['Nfeatures'], params['nodes']])\n",
    "    biases = new_biases(length=params['nodes'])\n",
    "    layer = tf.matmul(input, weights) + biases\n",
    "    layer = tf.layers.batch_normalization(layer, training=training)\n",
    "    if params['activation'] != 'None':\n",
    "        activation = activation_dictionary[params['activation']]\n",
    "        layer = activation(layer)\n",
    "    layer = tf.nn.dropout(layer, 1-params['dropout'])\n",
    "    return layer, weights"
   ]
  },
  {
   "cell_type": "code",
   "execution_count": 6,
   "metadata": {},
   "outputs": [],
   "source": [
    "# Set parameters for CNN layers in a neat, easy-to-manage dictionary\n",
    "convolution_params = {\n",
    "    'layer_1a':{'fSize':1,'fN':16,'sSize':1,'activation':'relu','channels':1,'maxpool':'Last'},\n",
    "    \n",
    "    'layer_1b1':{'fSize':1,'fN':16,'sSize':1,'activation':'relu','channels':1,'maxpool':'None'},\n",
    "    'layer_1b2':{'fSize':3,'fN':16,'sSize':1,'activation':'relu','channels':16,'maxpool':'Last'},\n",
    "    \n",
    "    'layer_1c1':{'fSize':1,'fN':16,'sSize':1,'activation':'relu','channels':1,'maxpool':'None'},\n",
    "    'layer_1c2':{'fSize':5,'fN':16,'sSize':1,'activation':'relu','channels':16,'maxpool':'Last'},\n",
    "    \n",
    "    'layer_1d':{'fSize':1,'fN':16,'sSize':1,'activation':'relu','channels':1,'maxpool':'First'},\n",
    "    \n",
    "    'layer_2a':{'fSize':3,'fN':32,'sSize':1,'activation':'relu','channels':64,'maxpool':'last'},\n",
    "    'layer_2b':{'fSize':3,'fN':32,'sSize':1,'activation':'relu','channels':64,'maxpool':'last'},\n",
    "    'layer_2c':{'fSize':3,'fN':32,'sSize':1,'activation':'relu','channels':64,'maxpool':'last'},\n",
    "    \n",
    "    'layer_3':{'fSize':3,'fN':128,'sSize':1,'activation':'relu','channels':96,'maxpool':'last'},\n",
    "    \n",
    "    'layer_4':{'fSize':3,'fN':256,'sSize':1,'activation':'relu','channels':128,'maxpool':'last'}\n",
    "}\n",
    "\n",
    "# Set parameters for Fully Connected layers\n",
    "fc_params = {\n",
    "    'layer_1':{'nodes':200,'activation':'relu','dropout':0.2,'batch_norm':'fc1'},\n",
    "    'layer_2':{'nodes':62,'activation':'None','dropout':0,'batch_norm':'fc2'}\n",
    "}\n",
    "\n",
    "#regularization strength\n",
    "reg_constant = 0.01"
   ]
  },
  {
   "cell_type": "code",
   "execution_count": 7,
   "metadata": {},
   "outputs": [
    {
     "name": "stdout",
     "output_type": "stream",
     "text": [
      "WARNING:tensorflow:From <ipython-input-7-7123318525c9>:34: softmax_cross_entropy_with_logits (from tensorflow.python.ops.nn_ops) is deprecated and will be removed in a future version.\n",
      "Instructions for updating:\n",
      "\n",
      "Future major versions of TensorFlow will allow gradients to flow\n",
      "into the labels input on backprop by default.\n",
      "\n",
      "See @{tf.nn.softmax_cross_entropy_with_logits_v2}.\n",
      "\n"
     ]
    }
   ],
   "source": [
    "#Set up the graph\n",
    "\n",
    "# 1. define label\n",
    "y_true = tf.placeholder(tf.float32, shape=[None, num_classes], name='label')\n",
    "y_true_class = tf.argmax(y_true, axis=1)\n",
    "\n",
    "# 2. Define input and training parameter (for batch norm)\n",
    "x = tf.placeholder(tf.float32, shape=[None, img_size_flat], name='x')\n",
    "x_image = tf.reshape(x, [-1, img_size, img_size, 1])\n",
    "training = tf.placeholder(tf.bool)\n",
    "\n",
    "# 3. Define the first convolutional layer\n",
    "layer_conv1a, w_c1a = new_conv_layer(previous_layer=x_image, p=convolution_params['layer_1a'])\n",
    "layer_conv1b, w_c1b1 = new_conv_layer(previous_layer=x_image, p=convolution_params['layer_1b1'])\n",
    "layer_conv1b, w_c1b2 = new_conv_layer(previous_layer=layer_conv1b, p=convolution_params['layer_1b2'])\n",
    "layer_conv1c, w_c1c1 = new_conv_layer(previous_layer=x_image, p=convolution_params['layer_1c1'])\n",
    "layer_conv1c, w_c1c2 = new_conv_layer(previous_layer=layer_conv1c, p=convolution_params['layer_1c2'])\n",
    "layer_conv1d, w_c1d = new_conv_layer(previous_layer=x_image, p=convolution_params['layer_1d'])\n",
    "\n",
    "# 4. Define the second convolutional layer\n",
    "layer_conv1 = tf.concat([layer_conv1a,layer_conv1b,layer_conv1c, layer_conv1d], 3)\n",
    "layer_conv2a, w_c2a = new_conv_layer(previous_layer=layer_conv1, p=convolution_params['layer_2a']) \n",
    "layer_conv2b, w_c2b = new_conv_layer(previous_layer=layer_conv1, p=convolution_params['layer_2b']) \n",
    "layer_conv2c, w_c2c = new_conv_layer(previous_layer=layer_conv1, p=convolution_params['layer_2c']) \n",
    "layer_conv2 = tf.concat([layer_conv2a,layer_conv2b,layer_conv2c], 3)\n",
    "\n",
    "# 5. Define the third and fourth convolutional layers\n",
    "layer_conv3, w_c3 = new_conv_layer(previous_layer=layer_conv2, p=convolution_params['layer_3']) \n",
    "layer_conv4, w_c4 = new_conv_layer(previous_layer=layer_conv3, p=convolution_params['layer_4'])\n",
    "\n",
    "# 6. Define the fully-connected layers\n",
    "layer_flat, num_features = flatten_layer(layer_conv4)\n",
    "fc_params['layer_1']['Nfeatures'] = num_features\n",
    "layer_fc1, w_fc1 = new_fc_layer(input=layer_flat, params=fc_params['layer_1'])\n",
    "fc_params['layer_2']['Nfeatures'] = fc_params['layer_1']['nodes']\n",
    "layer_fc2, w_fc2 = new_fc_layer(input=layer_fc1, params=fc_params['layer_2'])\n",
    "\n",
    "# 7. Define the prediction probabilities and classes\n",
    "y_hat = tf.nn.softmax(layer_fc2)\n",
    "y_hat_class = tf.argmax(y_hat, axis=1)\n",
    "cross_entropy = tf.nn.softmax_cross_entropy_with_logits(logits=layer_fc2, labels=y_true)\n",
    "\n",
    "# 8. Define the cost and regularization function\n",
    "cost = tf.reduce_mean(cross_entropy)\n",
    "weight_store = [w_c1a,w_c1b1,w_c1b2,w_c1c1,w_c1c2,w_c1d,w_c2a,w_c2b,w_c2c,w_c3,w_c4,w_fc1,w_fc2]\n",
    "regularizers = np.sum([tf.nn.l2_loss(i) for i in weight_store])\n",
    "cost = tf.reduce_mean(cost + reg_constant * regularizers)\n",
    "\n",
    "# 9. Define the optimization step and metrics\n",
    "update_ops = tf.get_collection(tf.GraphKeys.UPDATE_OPS)\n",
    "with tf.control_dependencies(update_ops):\n",
    "    optimizer = tf.train.AdamOptimizer(learning_rate=1e-4).minimize(cost)\n",
    "correct_prediction = tf.equal(y_hat_class, y_true_class)\n",
    "accuracy = tf.reduce_mean(tf.cast(correct_prediction, tf.float32))"
   ]
  },
  {
   "cell_type": "code",
   "execution_count": 8,
   "metadata": {},
   "outputs": [],
   "source": [
    "def optimize(num_iterations):\n",
    "\n",
    "    train_scores = []\n",
    "    start_time = time.time()\n",
    "\n",
    "    for i in range(num_iterations):\n",
    "        \n",
    "        #Create the training batch, feed to training dictionary and run optimization step\n",
    "        x_batch, y_true_batch, _, _ = train.next_batch(train_batch_size)\n",
    "        feed_dict_train = {x: x_batch, y_true: y_true_batch, training:True}\n",
    "        session.run(optimizer, feed_dict=feed_dict_train)\n",
    "        \n",
    "        # record for model assessment and printing progress\n",
    "        if i % 10 == 0:\n",
    "            feed_dict_train[training]=False\n",
    "            acc = session.run(accuracy, feed_dict=feed_dict_train)\n",
    "            train_scores.append(acc)\n",
    "            if i % 200 == 0:\n",
    "                msg = \"Optimization Iteration: {0:>6}, Training Accuracy: {1:>6.1%}\"\n",
    "                print(msg.format(i + 1, acc))\n",
    "\n",
    "    time_dif = time.time() - start_time\n",
    "    print(\"Time usage: \" + str(timedelta(seconds=int(round(time_dif)))))\n",
    "    return train_scores\n",
    "\n",
    "def print_validation_accuracy():\n",
    "    # Given test data, get the accuracy\n",
    "    num_validation = len(validation.images)\n",
    "    cls_pred = np.zeros(shape=num_validation, dtype=np.int)\n",
    "    i = 0\n",
    "    feed_dict = {x: validation.images, y_true: validation.labels, training:False}\n",
    "    cls_pred = session.run(y_hat_class, feed_dict=feed_dict)\n",
    "    cls_true = validation.cls\n",
    "    correct = (cls_true == cls_pred)\n",
    "    correct_sum = correct.sum()\n",
    "    acc = float(correct_sum) / num_validation\n",
    "    msg = \"Accuracy on validation-Set: {0:.1%} ({1} / {2})\"\n",
    "    print(msg.format(acc, correct_sum, num_validation))\n",
    "    return acc"
   ]
  },
  {
   "cell_type": "code",
   "execution_count": 9,
   "metadata": {},
   "outputs": [
    {
     "name": "stdout",
     "output_type": "stream",
     "text": [
      "Optimization Iteration:      1, Training Accuracy:   2.3%\n",
      "Optimization Iteration:    201, Training Accuracy:  30.5%\n",
      "Optimization Iteration:    401, Training Accuracy:  71.1%\n",
      "Optimization Iteration:    601, Training Accuracy:  81.2%\n",
      "Optimization Iteration:    801, Training Accuracy:  82.0%\n",
      "Optimization Iteration:   1001, Training Accuracy:  78.9%\n",
      "Optimization Iteration:   1201, Training Accuracy:  87.5%\n",
      "Optimization Iteration:   1401, Training Accuracy:  82.8%\n",
      "Optimization Iteration:   1601, Training Accuracy:  89.8%\n",
      "Optimization Iteration:   1801, Training Accuracy:  89.1%\n",
      "Optimization Iteration:   2001, Training Accuracy:  85.9%\n",
      "Optimization Iteration:   2201, Training Accuracy:  90.6%\n",
      "Optimization Iteration:   2401, Training Accuracy:  88.3%\n",
      "Optimization Iteration:   2601, Training Accuracy:  88.3%\n",
      "Optimization Iteration:   2801, Training Accuracy:  88.3%\n",
      "Optimization Iteration:   3001, Training Accuracy:  92.2%\n",
      "Optimization Iteration:   3201, Training Accuracy:  89.1%\n",
      "Optimization Iteration:   3401, Training Accuracy:  90.6%\n",
      "Optimization Iteration:   3601, Training Accuracy:  93.0%\n",
      "Optimization Iteration:   3801, Training Accuracy:  87.5%\n",
      "Optimization Iteration:   4001, Training Accuracy:  90.6%\n",
      "Optimization Iteration:   4201, Training Accuracy:  92.2%\n",
      "Optimization Iteration:   4401, Training Accuracy:  93.8%\n",
      "Optimization Iteration:   4601, Training Accuracy:  95.3%\n",
      "Optimization Iteration:   4801, Training Accuracy:  93.8%\n",
      "Optimization Iteration:   5001, Training Accuracy:  96.1%\n",
      "Time usage: 1:41:09\n"
     ]
    }
   ],
   "source": [
    "# Train the model\n",
    "\n",
    "train_batch_size = 128\n",
    "np.random.seed(10)\n",
    "session = tf.Session()\n",
    "session.run(tf.global_variables_initializer())\n",
    "\n",
    "train_scores = optimize(num_iterations=5001)"
   ]
  },
  {
   "cell_type": "code",
   "execution_count": 10,
   "metadata": {},
   "outputs": [
    {
     "data": {
      "text/plain": [
       "[<matplotlib.lines.Line2D at 0x1a2c05f710>]"
      ]
     },
     "execution_count": 10,
     "metadata": {},
     "output_type": "execute_result"
    },
    {
     "data": {
      "image/png": "[encoded data removed]",
      "text/plain": [
       "<Figure size 432x288 with 1 Axes>"
      ]
     },
     "metadata": {},
     "output_type": "display_data"
    }
   ],
   "source": [
    "%matplotlib inline\n",
    "plt.plot(train_scores)"
   ]
  },
  {
   "cell_type": "code",
   "execution_count": 11,
   "metadata": {},
   "outputs": [
    {
     "name": "stdout",
     "output_type": "stream",
     "text": [
      "Accuracy on validation-Set: 86.9% (5444 / 6262)\n"
     ]
    },
    {
     "data": {
      "text/plain": [
       "0.8693708080485468"
      ]
     },
     "execution_count": 11,
     "metadata": {},
     "output_type": "execute_result"
    }
   ],
   "source": [
    "print_validation_accuracy()"
   ]
  },
  {
   "cell_type": "code",
   "execution_count": 14,
   "metadata": {},
   "outputs": [
    {
     "data": {
      "text/plain": [
       "'../models/cnn/cnn_1/test_final_inception_cnn.ckpt'"
      ]
     },
     "execution_count": 14,
     "metadata": {},
     "output_type": "execute_result"
    }
   ],
   "source": [
    "try:\n",
    "    os.makedirs('../models/cnn/cnn_1/')\n",
    "except:\n",
    "    None\n",
    "    \n",
    "saver = tf.train.Saver(tf.global_variables())\n",
    "saver.save(session, \"../models/cnn/cnn_1/test_final_inception_cnn.ckpt\")"
   ]
  },
  {
   "cell_type": "code",
   "execution_count": 58,
   "metadata": {},
   "outputs": [],
   "source": [
    "def score_images(dataset,v_batch_size = 500):\n",
    "    #Function to score a new dataset using the trained model\n",
    "    index = 0\n",
    "    scores = np.array([])\n",
    "    while index < len(dataset.images):\n",
    "        start = index\n",
    "        end = index + v_batch_size\n",
    "        index = end\n",
    "        if end > len(dataset.images):\n",
    "            x_in = dataset.images[start:]\n",
    "        else:\n",
    "            x_in = dataset.images[start:end]\n",
    "\n",
    "        feed_dict = {x: x_in, training:False}\n",
    "        cls_pred = session.run(y_hat_class, feed_dict=feed_dict)\n",
    "        scores = np.concatenate([scores, cls_pred])\n",
    "    df = pd.DataFrame(scores.astype(int), index=dataset.img_names, columns=['predict'])\n",
    "    return df\n",
    "\n",
    "def save_predictions(predictions):\n",
    "    # Save the predictions in the appropriate file and folder\n",
    "    outpath = dt.datetime.now().strftime('../outputs/')\n",
    "    outfile = outpath+'test.txt'\n",
    "    os.makedirs(outpath)\n",
    "    predictions.to_csv(outfile, header=False, sep=\" \")"
   ]
  },
  {
   "cell_type": "code",
   "execution_count": null,
   "metadata": {},
   "outputs": [],
   "source": []
  }
 ],
 "metadata": {
  "kernelspec": {
   "display_name": "Python 3",
   "language": "python",
   "name": "python3"
  },
  "language_info": {
   "codemirror_mode": {
    "name": "ipython",
    "version": 3
   },
   "file_extension": ".py",
   "mimetype": "text/x-python",
   "name": "python",
   "nbconvert_exporter": "python",
   "pygments_lexer": "ipython3",
   "version": "3.5.5"
  }
 },
 "nbformat": 4,
 "nbformat_minor": 2
}
