{
 "cells": [
  {
   "cell_type": "code",
   "execution_count": 1,
   "metadata": {
    "collapsed": false,
    "deletable": true,
    "editable": true
   },
   "outputs": [
    {
     "name": "stderr",
     "output_type": "stream",
     "text": [
      "/home/james/.local/lib/python3.5/site-packages/h5py/__init__.py:36: FutureWarning: Conversion of the second argument of issubdtype from `float` to `np.floating` is deprecated. In future, it will be treated as `np.float64 == np.dtype(float).type`.\n",
      "  from ._conv import register_converters as _register_converters\n"
     ]
    },
    {
     "data": {
      "text/plain": [
       "'1.8.0'"
      ]
     },
     "execution_count": 1,
     "metadata": {},
     "output_type": "execute_result"
    }
   ],
   "source": [
    "# -*- coding: utf-8 -*-\n",
    "\"\"\"\n",
    "Created on Thu May 24 00:21:41 2018\n",
    "\n",
    "@author: aditya.sharma\n",
    "\"\"\"\n",
    "\n",
    "# In[1]:\n",
    "\n",
    "\n",
    "import cv2\n",
    "import os\n",
    "import matplotlib.pyplot as plt\n",
    "import tensorflow as tf\n",
    "import numpy as np\n",
    "from sklearn.metrics import confusion_matrix\n",
    "import time\n",
    "from datetime import timedelta\n",
    "import random\n",
    "\n",
    "tf.__version__"
   ]
  },
  {
   "cell_type": "code",
   "execution_count": 2,
   "metadata": {
    "collapsed": true
   },
   "outputs": [],
   "source": [
    "class DataSet(object):\n",
    "    def __init__(self, images, labels, img_names, cls):\n",
    "        self._num_examples = images.shape[0]\n",
    "        self._images = images\n",
    "        self._labels = labels\n",
    "        self._img_names = img_names\n",
    "        self._index_in_epoch = 0\n",
    "        self._epochs_done = 0\n",
    "        self._cls = cls\n",
    "\n",
    "    @property\n",
    "    def images(self):\n",
    "        return self._images\n",
    "\n",
    "    @property\n",
    "    def labels(self):\n",
    "        return self._labels\n",
    "\n",
    "    @property\n",
    "    def img_names(self):\n",
    "        return self._img_names\n",
    "\n",
    "    @property\n",
    "    def cls(self):\n",
    "        return self._cls\n",
    "\n",
    "    @property\n",
    "    def num_examples(self):\n",
    "        return self._num_examples\n",
    "\n",
    "    def next_batch(self, batch_size):\n",
    "        \"\"\"Return the next `batch_size` examples from this data set.\"\"\"\n",
    "        start = self._index_in_epoch\n",
    "        self._index_in_epoch += batch_size\n",
    "        if self._index_in_epoch > self._num_examples:\n",
    "            # After each epoch we update this\n",
    "            self._epochs_done += 1\n",
    "            start = 0\n",
    "            self._index_in_epoch = batch_size\n",
    "            assert batch_size <= self._num_examples\n",
    "        end = self._index_in_epoch\n",
    "        return self._images[start:end], self._labels[start:end], self._img_names[start:end], self._cls[start:end]"
   ]
  },
  {
   "cell_type": "code",
   "execution_count": 3,
   "metadata": {
    "collapsed": true
   },
   "outputs": [],
   "source": [
    "def load_data(input_path, dataset_type, image_size):\n",
    "    images = []\n",
    "    labels = []\n",
    "    img_names = []\n",
    "    cls = []\n",
    "    data_path = os.path.join(input_path, str(dataset_type+'-set'))\n",
    "    label_path = os.path.join(input_path, str(dataset_type+'.txt'))\n",
    "    with open(label_path, 'r') as label_file:\n",
    "        lines = label_file.readlines()\n",
    "        random.shuffle(lines)\n",
    "        for line in lines:\n",
    "            filename, index = line.split(' ')\n",
    "            label = np.zeros(62)\n",
    "            label[int(index)] = 1.0\n",
    "            labels.append(label)\n",
    "            img_names.append(filename)\n",
    "            image_file_path = os.path.join(data_path, filename)\n",
    "            image = cv2.imread(image_file_path, cv2.IMREAD_GRAYSCALE)\n",
    "            image = cv2.resize(image, (image_size, image_size),0,0, cv2.INTER_LINEAR)\n",
    "            image = np.reshape(image, image_size*image_size)\n",
    "            images.append(image)\n",
    "            cls.append(int(index))\n",
    "    images = np.array(images)\n",
    "    labels = np.array(labels)\n",
    "    img_names = np.array(img_names)\n",
    "    cls = np.array(cls)\n",
    "    return DataSet(images, labels, img_names, cls)"
   ]
  },
  {
   "cell_type": "code",
   "execution_count": 4,
   "metadata": {
    "collapsed": false
   },
   "outputs": [
    {
     "name": "stdout",
     "output_type": "stream",
     "text": [
      "Size of:\n",
      "- Training-set:\t\t37882\n",
      "- Validation-set:\t6262\n"
     ]
    },
    {
     "data": {
      "image/png": "[encoded data removed]",
      "text/plain": [
       "<matplotlib.figure.Figure at 0x7fdc0962ae10>"
      ]
     },
     "metadata": {},
     "output_type": "display_data"
    }
   ],
   "source": [
    "input_path = '../Input/'\n",
    "num_channels = 1\n",
    "num_classes = 62\n",
    "img_size = 32\n",
    "img_size_flat = img_size * img_size\n",
    "img_shape = (img_size, img_size)\n",
    "\n",
    "train = load_data('../Input/','train',32)\n",
    "validation = load_data('../Input/','vali',32)\n",
    "\n",
    "print(\"Size of:\")\n",
    "print(\"- Training-set:\\t\\t{}\".format(len(train.labels)))\n",
    "#print(\"- Test-set:\\t\\t{}\".format(len(data.test.labels)))\n",
    "print(\"- Validation-set:\\t{}\".format(len(validation.labels)))\n",
    "\n",
    "\n",
    "def plot_images(images, cls_true, img_shape=None, cls_pred=None):\n",
    "    assert len(images) == len(cls_true) == 9\n",
    "    fig, axes = plt.subplots(3, 3)\n",
    "    fig.subplots_adjust(hspace=0.3, wspace=0.3)\n",
    "\n",
    "    for i, ax in enumerate(axes.flat):\n",
    "        ax.imshow(images[i].reshape((img_size,img_size)), cmap='binary')\n",
    "        if cls_pred is None:\n",
    "            xlabel = \"True: {0}\".format(cls_true[i])\n",
    "        else:\n",
    "            xlabel = \"True: {0}, Pred: {1}\".format(cls_true[i], cls_pred[i])\n",
    "        ax.set_xlabel(xlabel)\n",
    "        ax.set_xticks([])\n",
    "        ax.set_yticks([])\n",
    "    plt.show()\n",
    "\n",
    "images = validation.images[0:9]\n",
    "cls_true = validation.cls[0:9]\n",
    "plot_images(images=images, cls_true=cls_true)\n",
    "\n"
   ]
  },
  {
   "cell_type": "code",
   "execution_count": 5,
   "metadata": {
    "collapsed": false,
    "deletable": true,
    "editable": true
   },
   "outputs": [],
   "source": [
    "activation_dictionary = {'relu':tf.nn.relu,'lrelu':tf.nn.leaky_relu,'tanh':tf.nn.tanh,'sigmoid':tf.nn.sigmoid}\n",
    "\n",
    "def new_weights(shape):\n",
    "    new_weight = tf.truncated_normal(shape, stddev=0.05)\n",
    "    return tf.Variable(new_weight)\n",
    "\n",
    "def new_biases(length):\n",
    "    new_bias = tf.constant(0.05, shape=[length])\n",
    "    return tf.Variable(new_bias)\n",
    "\n",
    "def new_conv_layer(previous_layer,p):\n",
    "    if p['maxpool'].lower()=='first':\n",
    "        previous_layer = tf.nn.max_pool(value=previous_layer, ksize=[1,2,2,1], strides=[1,2,2,1], padding='SAME')\n",
    "    weights = new_weights(shape=[p['fSize'], p['fSize'], p['channels'], p['fN']])\n",
    "    biases = new_biases(length=p['fN'])\n",
    "    \n",
    "    layer = tf.nn.conv2d(input=previous_layer, filter=weights, strides=[1, p['sSize'], p['sSize'], 1],\n",
    "                         padding='SAME')\n",
    "    layer += biases\n",
    "    if p['maxpool'].lower()=='last':\n",
    "        layer = tf.nn.max_pool(value=layer, ksize=[1, 2, 2, 1], strides=[1, 2, 2, 1], padding='SAME')\n",
    "    layer = tf.layers.batch_normalization(layer, training=training, axis=-1)\n",
    "    activation = activation_dictionary[p['activation']]\n",
    "    layer = activation(layer)\n",
    "    return layer, weights\n",
    "\n",
    "def flatten_layer(layer):\n",
    "    layer_shape = layer.get_shape()\n",
    "    num_features = layer_shape[1:4].num_elements()\n",
    "    layer_flat = tf.reshape(layer, [-1, num_features])\n",
    "    return layer_flat, num_features\n",
    "\n",
    "\n",
    "def new_fc_layer(input, params): \n",
    "    weights = new_weights(shape=[params['Nfeatures'], params['nodes']])\n",
    "    biases = new_biases(length=params['nodes'])\n",
    "    layer = tf.matmul(input, weights) + biases\n",
    "    layer = tf.layers.batch_normalization(layer, training=training)\n",
    "    if params['activation'] != 'None':\n",
    "        activation = activation_dictionary[params['activation']]\n",
    "        layer = activation(layer)\n",
    "    layer = tf.nn.dropout(layer, 1-params['dropout'])\n",
    "    return layer, weights"
   ]
  },
  {
   "cell_type": "code",
   "execution_count": 6,
   "metadata": {
    "collapsed": true
   },
   "outputs": [],
   "source": [
    "def get_convchannel(layer_input, convolution_params):\n",
    "    temp = layer_input\n",
    "    for i in convolution_params.keys():\n",
    "        temp = new_conv_layer()"
   ]
  },
  {
   "cell_type": "code",
   "execution_count": 7,
   "metadata": {
    "collapsed": true,
    "deletable": true,
    "editable": true
   },
   "outputs": [],
   "source": [
    "# Set parameters for CNN layers\n",
    "convolution_params = {\n",
    "    'layer_1a':{'fSize':1,'fN':16,'sSize':1,'activation':'relu','channels':1,'maxpool':'Last'},\n",
    "    \n",
    "    'layer_1b1':{'fSize':1,'fN':16,'sSize':1,'activation':'relu','channels':1,'maxpool':'None'},\n",
    "    'layer_1b2':{'fSize':3,'fN':16,'sSize':1,'activation':'relu','channels':16,'maxpool':'Last'},\n",
    "    \n",
    "    'layer_1c1':{'fSize':1,'fN':16,'sSize':1,'activation':'relu','channels':1,'maxpool':'None'},\n",
    "    'layer_1c2':{'fSize':5,'fN':16,'sSize':1,'activation':'relu','channels':16,'maxpool':'Last'},\n",
    "    \n",
    "    'layer_1d':{'fSize':1,'fN':16,'sSize':1,'activation':'relu','channels':1,'maxpool':'First'},\n",
    "    \n",
    "    'layer_2a':{'fSize':3,'fN':32,'sSize':1,'activation':'relu','channels':64,'maxpool':'last'},\n",
    "    'layer_2b':{'fSize':3,'fN':32,'sSize':1,'activation':'relu','channels':64,'maxpool':'last'},\n",
    "    'layer_2c':{'fSize':3,'fN':32,'sSize':1,'activation':'relu','channels':64,'maxpool':'last'},\n",
    "    \n",
    "    'layer_3':{'fSize':3,'fN':128,'sSize':1,'activation':'relu','channels':96,'maxpool':'last'},\n",
    "    \n",
    "    'layer_4':{'fSize':3,'fN':256,'sSize':1,'activation':'relu','channels':128,'maxpool':'last'}\n",
    "}\n",
    "\n",
    "fc_params = {\n",
    "    'layer_1':{'nodes':200,'activation':'relu','dropout':0.2,'batch_norm':'fc1'},\n",
    "    'layer_2':{'nodes':62,'activation':'None','dropout':0,'batch_norm':'fc2'}\n",
    "}\n",
    "\n",
    "reg_constant = 0.1\n",
    "train_batch_size = 100\n",
    "\n",
    "\n"
   ]
  },
  {
   "cell_type": "code",
   "execution_count": 8,
   "metadata": {
    "collapsed": false,
    "deletable": true,
    "editable": true
   },
   "outputs": [
    {
     "name": "stdout",
     "output_type": "stream",
     "text": [
      "WARNING:tensorflow:From <ipython-input-8-98888ae55fd9>:60: softmax_cross_entropy_with_logits (from tensorflow.python.ops.nn_ops) is deprecated and will be removed in a future version.\n",
      "Instructions for updating:\n",
      "\n",
      "Future major versions of TensorFlow will allow gradients to flow\n",
      "into the labels input on backprop by default.\n",
      "\n",
      "See @{tf.nn.softmax_cross_entropy_with_logits_v2}.\n",
      "\n"
     ]
    }
   ],
   "source": [
    "#def create_graph(convolution_params, fc_params):\n",
    "\n",
    "tf.reset_default_graph()\n",
    "\n",
    "y_true = tf.placeholder(tf.float32, shape=[None, num_classes], name='label')\n",
    "y_true_class = tf.argmax(y_true, axis=1)\n",
    "\n",
    "x = tf.placeholder(tf.float32, shape=[None, img_size_flat], name='x')\n",
    "x_image = tf.reshape(x, [-1, img_size, img_size, 1])\n",
    "\n",
    "training = tf.placeholder(tf.bool)\n",
    "\n",
    "p = convolution_params['layer_1a']\n",
    "layer_conv1a, w_c1a = new_conv_layer(previous_layer=x_image, p=p)\n",
    "\n",
    "p = convolution_params['layer_1b1']\n",
    "layer_conv1b, w_c1b1 = new_conv_layer(previous_layer=x_image, p=p)\n",
    "p = convolution_params['layer_1b2']\n",
    "layer_conv1b, w_c1b2 = new_conv_layer(previous_layer=layer_conv1b, p=p)\n",
    "\n",
    "p = convolution_params['layer_1c1']\n",
    "layer_conv1c, w_c1c1 = new_conv_layer(previous_layer=x_image, p=p)\n",
    "p = convolution_params['layer_1c2']\n",
    "layer_conv1c, w_c1c2 = new_conv_layer(previous_layer=layer_conv1c, p=p)\n",
    "\n",
    "p = convolution_params['layer_1d']\n",
    "layer_conv1d, w_c1d = new_conv_layer(previous_layer=x_image, p=p)\n",
    "\n",
    "layer_conv1 = tf.concat([layer_conv1a,layer_conv1b,layer_conv1c, layer_conv1d], 3)\n",
    "\n",
    "p = convolution_params['layer_2a']\n",
    "layer_conv2a, w_c2a = new_conv_layer(previous_layer=layer_conv1, p=p) \n",
    "p = convolution_params['layer_2b']\n",
    "layer_conv2b, w_c2b = new_conv_layer(previous_layer=layer_conv1, p=p) \n",
    "p = convolution_params['layer_2c']\n",
    "layer_conv2c, w_c2c = new_conv_layer(previous_layer=layer_conv1, p=p) \n",
    "layer_conv2 = tf.concat([layer_conv2a,layer_conv2b,layer_conv2c], 3)\n",
    "\n",
    "p = convolution_params['layer_3']\n",
    "layer_conv3, w_c3 = new_conv_layer(previous_layer=layer_conv2, p=p) \n",
    "\n",
    "p = convolution_params['layer_4']\n",
    "layer_conv4, w_c4 = new_conv_layer(previous_layer=layer_conv3, p=p)\n",
    "\n",
    "\n",
    "layer_flat, num_features = flatten_layer(layer_conv4)\n",
    "\n",
    "p = fc_params['layer_1']\n",
    "p['Nfeatures'] = num_features\n",
    "num_features = p['nodes']\n",
    "layer_fc1, w_fc1 = new_fc_layer(input=layer_flat, params=p)\n",
    "\n",
    "p = fc_params['layer_2']\n",
    "p['Nfeatures'] = num_features\n",
    "layer_fc2, w_fc2 = new_fc_layer(input=layer_fc1, params=p)\n",
    "\n",
    "\n",
    "y_hat = tf.nn.softmax(layer_fc2)\n",
    "y_hat_class = tf.argmax(y_hat, axis=1)\n",
    "cross_entropy = tf.nn.softmax_cross_entropy_with_logits(logits=layer_fc2, labels=y_true)\n",
    "\n",
    "cost = tf.reduce_mean(cross_entropy)\n",
    "weight_store = [w_c1a,w_c1b1,w_c1b2,w_c1c1,w_c1c2,w_c1d,w_c2a,w_c2b,w_c2c,w_c3,w_c4,w_fc1,w_fc2]\n",
    "regularizers = np.sum([tf.nn.l2_loss(i) for i in weight_store])\n",
    "cost = tf.reduce_mean(cost + reg_constant * regularizers)\n",
    "\n",
    "update_ops = tf.get_collection(tf.GraphKeys.UPDATE_OPS)\n",
    "with tf.control_dependencies(update_ops):\n",
    "    optimizer = tf.train.AdamOptimizer(learning_rate=1e-4).minimize(cost)\n",
    "correct_prediction = tf.equal(y_hat_class, y_true_class)\n",
    "accuracy = tf.reduce_mean(tf.cast(correct_prediction, tf.float32))"
   ]
  },
  {
   "cell_type": "code",
   "execution_count": 9,
   "metadata": {
    "collapsed": false,
    "deletable": true,
    "editable": true
   },
   "outputs": [],
   "source": [
    "def optimize(num_iterations):\n",
    "    # Ensure we update the global variable rather than a local copy.\n",
    "    global total_iterations\n",
    "    global train_scores\n",
    "\n",
    "    # Start-time used for printing time-usage below.\n",
    "    start_time = time.time()\n",
    "\n",
    "    for i in range(total_iterations,\n",
    "                   total_iterations + num_iterations):\n",
    "\n",
    "        x_batch, y_true_batch, _, _ = train.next_batch(train_batch_size)\n",
    "\n",
    "        feed_dict_train = {x: x_batch, y_true: y_true_batch, training:True}\n",
    "        session.run(optimizer, feed_dict=feed_dict_train)\n",
    "\n",
    "        if i % 10 == 0:\n",
    "            feed_dict_train[training]=False\n",
    "            acc = session.run(accuracy, feed_dict=feed_dict_train)\n",
    "            train_scores.append(acc)\n",
    "            if i % 100 == 0:\n",
    "                msg = \"Optimization Iteration: {0:>6}, Training Accuracy: {1:>6.1%}\"\n",
    "                print(msg.format(i + 1, acc))\n",
    "\n",
    "    total_iterations += num_iterations\n",
    "    time_dif = time.time() - start_time\n",
    "    print(\"Time usage: \" + str(timedelta(seconds=int(round(time_dif)))))\n",
    "\n",
    "\n",
    "validation_batch_size = 256\n",
    "\n"
   ]
  },
  {
   "cell_type": "code",
   "execution_count": 10,
   "metadata": {
    "collapsed": false
   },
   "outputs": [
    {
     "name": "stdout",
     "output_type": "stream",
     "text": [
      "Optimization Iteration:      1, Training Accuracy:   3.9%\n",
      "Optimization Iteration:    101, Training Accuracy:   1.6%\n",
      "Optimization Iteration:    201, Training Accuracy:  25.8%\n",
      "Optimization Iteration:    301, Training Accuracy:  59.4%\n",
      "Optimization Iteration:    401, Training Accuracy:  72.7%\n",
      "Optimization Iteration:    501, Training Accuracy:  76.6%\n",
      "Optimization Iteration:    601, Training Accuracy:  78.1%\n",
      "Optimization Iteration:    701, Training Accuracy:  81.2%\n",
      "Optimization Iteration:    801, Training Accuracy:  82.8%\n",
      "Optimization Iteration:    901, Training Accuracy:  77.3%\n",
      "Optimization Iteration:   1001, Training Accuracy:  85.2%\n",
      "Optimization Iteration:   1101, Training Accuracy:  79.7%\n",
      "Optimization Iteration:   1201, Training Accuracy:  87.5%\n",
      "Optimization Iteration:   1301, Training Accuracy:  89.8%\n",
      "Optimization Iteration:   1401, Training Accuracy:  94.5%\n",
      "Optimization Iteration:   1501, Training Accuracy:  89.1%\n",
      "Optimization Iteration:   1601, Training Accuracy:  87.5%\n",
      "Optimization Iteration:   1701, Training Accuracy:  90.6%\n",
      "Optimization Iteration:   1801, Training Accuracy:  88.3%\n",
      "Optimization Iteration:   1901, Training Accuracy:  92.2%\n",
      "Optimization Iteration:   2001, Training Accuracy:  89.1%\n",
      "Time usage: 0:19:47\n"
     ]
    }
   ],
   "source": [
    "# Counter for total number of iterations performed so far.\n",
    "\n",
    "train_batch_size = 128\n",
    "total_iterations = 0\n",
    "train_scores = []\n",
    "\n",
    "np.random.seed(10)\n",
    "\n",
    "session = tf.Session()\n",
    "session.run(tf.global_variables_initializer())\n",
    "\n",
    "optimize(num_iterations=2001)"
   ]
  },
  {
   "cell_type": "code",
   "execution_count": 11,
   "metadata": {
    "collapsed": true
   },
   "outputs": [],
   "source": [
    "def print_validation_accuracy():\n",
    "    num_validation = len(validation.images)\n",
    "    cls_pred = np.zeros(shape=num_validation, dtype=np.int)\n",
    "    i = 0\n",
    "\n",
    "    while i < num_validation:\n",
    "        j = min(i + validation_batch_size, num_validation)\n",
    "        images = validation.images[i:j, :]\n",
    "        labels = validation.labels[i:j, :]\n",
    "        feed_dict = {x: images, y_true: labels, training:False}\n",
    "        cls_pred[i:j] = session.run(y_hat_class, feed_dict=feed_dict)\n",
    "        i = j\n",
    "    cls_true = validation.cls\n",
    "    correct = (cls_true == cls_pred)\n",
    "    correct_sum = correct.sum()\n",
    "    acc = float(correct_sum) / num_validation\n",
    "    msg = \"Accuracy on validation-Set: {0:.1%} ({1} / {2})\"\n",
    "    print(msg.format(acc, correct_sum, num_validation))"
   ]
  },
  {
   "cell_type": "code",
   "execution_count": 12,
   "metadata": {
    "collapsed": false
   },
   "outputs": [
    {
     "data": {
      "text/plain": [
       "[<matplotlib.lines.Line2D at 0x7fdc00216c88>]"
      ]
     },
     "execution_count": 12,
     "metadata": {},
     "output_type": "execute_result"
    },
    {
     "data": {
      "image/png": "[encoded data removed]",
      "text/plain": [
       "<matplotlib.figure.Figure at 0x7fdc09608a90>"
      ]
     },
     "metadata": {},
     "output_type": "display_data"
    }
   ],
   "source": [
    "%matplotlib inline\n",
    "plt.plot(train_scores)"
   ]
  },
  {
   "cell_type": "code",
   "execution_count": 13,
   "metadata": {
    "collapsed": false
   },
   "outputs": [
    {
     "name": "stdout",
     "output_type": "stream",
     "text": [
      "Accuracy on validation-Set: 85.8% (5370 / 6262)\n"
     ]
    }
   ],
   "source": [
    "print_validation_accuracy()"
   ]
  },
  {
   "cell_type": "code",
   "execution_count": null,
   "metadata": {
    "collapsed": true
   },
   "outputs": [],
   "source": []
  }
 ],
 "metadata": {
  "kernelspec": {
   "display_name": "Python 3",
   "language": "python",
   "name": "python3"
  },
  "language_info": {
   "codemirror_mode": {
    "name": "ipython",
    "version": 3
   },
   "file_extension": ".py",
   "mimetype": "text/x-python",
   "name": "python",
   "nbconvert_exporter": "python",
   "pygments_lexer": "ipython3",
   "version": "3.5.2"
  }
 },
 "nbformat": 4,
 "nbformat_minor": 2
}
